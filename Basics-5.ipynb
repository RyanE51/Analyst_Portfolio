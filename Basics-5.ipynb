{
 "cells": [
  {
   "cell_type": "markdown",
   "metadata": {
    "collapsed": true
   },
   "source": [
    "# Lottery Addiction App"
   ]
  },
  {
   "cell_type": "markdown",
   "metadata": {},
   "source": [
    "## Table of Contents\n",
    "\n",
    "* [Introduction](#Introduction)\n",
    "* [Core Functions](#Core-Functions)\n",
    "* [One-Ticket Probability](#One-Ticket-Probability)\n",
    "* [Historical Data Check](#Historical-Data-Check)\n",
    "* [Multi-Ticket Probability](#Multi-Ticket-Probability)\n",
    "* [Less Winning Numbers](#Less-Winning-Numbers)\n",
    "* [At Least an Amount of Winning Numbers](#At-Least-an-Amount-of-Winning-Numbers)\n",
    "* [Conclusion](#Conclusion)"
   ]
  },
  {
   "cell_type": "markdown",
   "metadata": {},
   "source": [
    "## Introduction\n",
    "\n",
    "Many people around the world develop gambling addictions, and one of the toughest variations of this addiction can be compulsively gambling on the lottery. But, through the use of an app, a medical institute is aiming to help change this behavior. This app will help users estimate their odds of winning the [6/49 lottery](https://en.wikipedia.org/wiki/Lotto_6/49). We will also reference [this dataset](https://www.kaggle.com/datasets/datascienceai/lottery-dataset) containing historical lottery data, so the user can compare their predictions to past results."
   ]
  },
  {
   "cell_type": "markdown",
   "metadata": {},
   "source": [
    "Before we begin creating the app, we will read in all the necessary Python libraries to complete this project."
   ]
  },
  {
   "cell_type": "code",
   "execution_count": 1,
   "metadata": {
    "collapsed": true
   },
   "outputs": [],
   "source": [
    "# importing libraries\n",
    "import numpy as np\n",
    "import pandas as pd\n",
    "import matplotlib.pyplot as plt\n",
    "import seaborn as sns\n",
    "\n",
    "# initialize notebook's plotting capabilities\n",
    "%matplotlib inline"
   ]
  },
  {
   "cell_type": "markdown",
   "metadata": {},
   "source": [
    "## Core Functions\n",
    "\n",
    "To begin, we will create the functions that allow this app to work properly. Since we'll need to output many probabilites and combinations, we will create a function that calculates factorials and a function that calculates combinations."
   ]
  },
  {
   "cell_type": "code",
   "execution_count": 2,
   "metadata": {
    "collapsed": false
   },
   "outputs": [
    {
     "name": "stdout",
     "output_type": "stream",
     "text": [
      "factorial of 3: 6\n",
      "combinations of 3 choose 2: 3.0\n"
     ]
    }
   ],
   "source": [
    "# Function calculates factorial for a number n\n",
    "def factorial(n):\n",
    "    value = n \n",
    "    for i in range(1, n):\n",
    "        value *= (n - i) \n",
    "    return value\n",
    "\n",
    "# function calculates total number of combinations when taking k objects from a set size n\n",
    "def combinations(n, k):\n",
    "    numerator = factorial(n)\n",
    "    denominator = factorial(n-k) * factorial(k)\n",
    "    return numerator / denominator\n",
    "\n",
    "# verifying functions work\n",
    "print('factorial of 3:', factorial(3))\n",
    "print('combinations of 3 choose 2:', combinations(3,2))"
   ]
  },
  {
   "cell_type": "markdown",
   "metadata": {},
   "source": [
    "## One-Ticket Probability\n",
    "\n",
    "Now that we have successfully created the core functionality of the app, we will create a function that will tell the user the probability of winning the lottery with a single ticket for any set of numbers. Of note, in this lottery there are 49 numbers to choose from and 6 numbers that will be randomly chosen."
   ]
  },
  {
   "cell_type": "code",
   "execution_count": 3,
   "metadata": {
    "collapsed": false
   },
   "outputs": [
    {
     "name": "stdout",
     "output_type": "stream",
     "text": [
      "Your guesses [1, 5, 43, 32, 11, 19] have a 0.000007 percent chance of winning.\n",
      "Your guesses [9, 49, 40, 30, 10, 20] have a 0.000007 percent chance of winning.\n",
      "Your guesses [33, 6, 22, 42, 8, 25] have a 0.000007 percent chance of winning.\n",
      "Your guesses [26, 8, 41, 47, 37, 16] have a 0.000007 percent chance of winning.\n"
     ]
    }
   ],
   "source": [
    "# creating function that tells user odds of winning with one ticket\n",
    "def one_ticket_probability(numbers):\n",
    "    total_combinations = combinations(49, 6)\n",
    "    probability = 1 / total_combinations * 100\n",
    "    return \"Your guesses {nums:} have a {odds:.6f} percent chance of winning.\".format(\n",
    "                                                                                nums = numbers, \n",
    "                                                                                odds = probability\n",
    "                                                                                )\n",
    "# input guesses to verify that function works\n",
    "guess_1 = [1, 5, 43, 32, 11, 19]\n",
    "guess_2 = [9, 49, 40, 30, 10, 20]\n",
    "guess_3 = [33, 6, 22, 42, 8, 25]\n",
    "guess_4 = [26, 8, 41, 47, 37, 16]\n",
    "# inputting guesses into function to verify function works correctly\n",
    "print(one_ticket_probability(guess_1))\n",
    "print(one_ticket_probability(guess_2))\n",
    "print(one_ticket_probability(guess_3))\n",
    "print(one_ticket_probability(guess_4))"
   ]
  },
  {
   "cell_type": "markdown",
   "metadata": {},
   "source": [
    "We can now see that we have successfully created our function. Now, regardless of what numbers the user inputs, they will always see that each ticket has only a 0.000007 percent chance of winning."
   ]
  },
  {
   "cell_type": "markdown",
   "metadata": {},
   "source": [
    "## Historical Data Check\n",
    "\n",
    "We will now create the functionality that will allow users to see if the numbers they chose should have won at any point between 1982 and 2018. Before creating this functionality though, we will read in our dataset."
   ]
  },
  {
   "cell_type": "code",
   "execution_count": 4,
   "metadata": {
    "collapsed": false,
    "scrolled": false
   },
   "outputs": [
    {
     "name": "stdout",
     "output_type": "stream",
     "text": [
      "Rows: 3665 Columns: 11\n",
      "\n",
      "\n",
      "   PRODUCT  DRAW NUMBER  SEQUENCE NUMBER  DRAW DATE  NUMBER DRAWN 1  \\\n",
      "0      649            1                0  6/12/1982               3   \n",
      "1      649            2                0  6/19/1982               8   \n",
      "2      649            3                0  6/26/1982               1   \n",
      "\n",
      "   NUMBER DRAWN 2  NUMBER DRAWN 3  NUMBER DRAWN 4  NUMBER DRAWN 5  \\\n",
      "0              11              12              14              41   \n",
      "1              33              36              37              39   \n",
      "2               6              23              24              27   \n",
      "\n",
      "   NUMBER DRAWN 6  BONUS NUMBER  \n",
      "0              43            13  \n",
      "1              41             9  \n",
      "2              39            34  \n",
      "\n",
      "\n",
      "      PRODUCT  DRAW NUMBER  SEQUENCE NUMBER  DRAW DATE  NUMBER DRAWN 1  \\\n",
      "3662      649         3589                0  6/13/2018               6   \n",
      "3663      649         3590                0  6/16/2018               2   \n",
      "3664      649         3591                0  6/20/2018              14   \n",
      "\n",
      "      NUMBER DRAWN 2  NUMBER DRAWN 3  NUMBER DRAWN 4  NUMBER DRAWN 5  \\\n",
      "3662              22              24              31              32   \n",
      "3663              15              21              31              38   \n",
      "3664              24              31              35              37   \n",
      "\n",
      "      NUMBER DRAWN 6  BONUS NUMBER  \n",
      "3662              34            16  \n",
      "3663              49             8  \n",
      "3664              48            17  \n"
     ]
    }
   ],
   "source": [
    "lotto = pd.read_csv('649.csv')\n",
    "print('Rows:', len(lotto), 'Columns:', len(lotto.columns))\n",
    "print('\\n')\n",
    "print(lotto.head(3))\n",
    "print('\\n')\n",
    "print(lotto.tail(3))"
   ]
  },
  {
   "cell_type": "markdown",
   "metadata": {},
   "source": [
    "We have successfully read in our dataset as the dataframe `lotto`. "
   ]
  },
  {
   "cell_type": "markdown",
   "metadata": {},
   "source": [
    "We will now create a function that extracts the winning combinations of numbers in the dataset and another function that determines if the user inputted a combination that has won in the past."
   ]
  },
  {
   "cell_type": "code",
   "execution_count": 5,
   "metadata": {
    "collapsed": false
   },
   "outputs": [
    {
     "name": "stdout",
     "output_type": "stream",
     "text": [
      "0    {3, 41, 11, 12, 43, 14}\n",
      "1    {33, 36, 37, 39, 8, 41}\n",
      "2     {1, 6, 39, 23, 24, 27}\n",
      "3     {3, 9, 10, 43, 13, 20}\n",
      "4    {34, 5, 14, 47, 21, 31}\n",
      "dtype: object\n"
     ]
    }
   ],
   "source": [
    "# function extracts winning numbers\n",
    "def extract_numbers(row):\n",
    "    winning_numbers = []\n",
    "    for i in range(1,7):\n",
    "        col = 'NUMBER DRAWN {}'.format(i)\n",
    "        winning_numbers.append(row[col])\n",
    "    return set(winning_numbers)\n",
    "\n",
    "# creates column with winning numbers from drawing\n",
    "winning_numbers = lotto.apply(extract_numbers, axis = 1)\n",
    "print(winning_numbers.head())"
   ]
  },
  {
   "cell_type": "markdown",
   "metadata": {},
   "source": [
    "We have created out function that extracts winning numbers. Now we'll create our function that checks if the guess the user inputted has ever won."
   ]
  },
  {
   "cell_type": "code",
   "execution_count": 6,
   "metadata": {
    "collapsed": false
   },
   "outputs": [
    {
     "name": "stdout",
     "output_type": "stream",
     "text": [
      "Your guess [1, 5, 43, 32, 11, 19] has won 0 times in the past 3,655 drawings.\n",
      "Your guess [9, 49, 40, 30, 10, 20] has won 0 times in the past 3,655 drawings.\n",
      "Your guess [33, 6, 22, 42, 8, 25] has won 0 times in the past 3,655 drawings.\n",
      "Your guess [26, 8, 41, 47, 37, 16] has won 0 times in the past 3,655 drawings.\n"
     ]
    }
   ],
   "source": [
    "# function outputs number of times a guess has won\n",
    "def check_historical_occurance(numbers):\n",
    "    number_set = set(numbers)\n",
    "    #historical_winners = lotto('winning_numbers')\n",
    "    total = (number_set == winning_numbers).sum()\n",
    "    return 'Your guess {} has won {} times in the past 3,655 drawings.'.format(numbers, total)\n",
    "\n",
    "# input guesses to verify that function works\n",
    "guess_1 = [1, 5, 43, 32, 11, 19]\n",
    "guess_2 = [9, 49, 40, 30, 10, 20]\n",
    "guess_3 = [33, 6, 22, 42, 8, 25]\n",
    "guess_4 = [26, 8, 41, 47, 37, 16]\n",
    "# inputting guesses into function to verify function works correctly\n",
    "print(check_historical_occurance(guess_1))\n",
    "print(check_historical_occurance(guess_2))\n",
    "print(check_historical_occurance(guess_3))\n",
    "print(check_historical_occurance(guess_4))"
   ]
  },
  {
   "cell_type": "markdown",
   "metadata": {},
   "source": [
    "We have now created our function that tells the user if the number they inputted has ever won. This will show the user how unlikely it is that the guess they inputted would have ever won in any past drawing."
   ]
  },
  {
   "cell_type": "markdown",
   "metadata": {},
   "source": [
    "## Multi-Ticket Probability\n",
    "\n",
    "We will now create a function that tells the user what the likelihood of them winning with multiple tickets is."
   ]
  },
  {
   "cell_type": "code",
   "execution_count": 7,
   "metadata": {
    "collapsed": false
   },
   "outputs": [
    {
     "name": "stdout",
     "output_type": "stream",
     "text": [
      "1 total tickets gives you a 0.000007 percent chance to win.\n",
      "10 total tickets gives you a 0.000072 percent chance to win.\n",
      "100 total tickets gives you a 0.000715 percent chance to win.\n",
      "10000 total tickets gives you a 0.071511 percent chance to win.\n",
      "1000000 total tickets gives you a 7.151124 percent chance to win.\n",
      "6991908 total tickets gives you a 50.000000 percent chance to win.\n",
      "13983816 total tickets gives you a 100.000000 percent chance to win.\n"
     ]
    }
   ],
   "source": [
    "# function outputs probability that a given number of tickets will produce a winner\n",
    "def multi_ticket_probability(tickets):\n",
    "    total_outcomes = combinations(49, 6)\n",
    "    winning_outcomes = tickets\n",
    "    probability = (winning_outcomes / total_outcomes) * 100\n",
    "    return '{num:} total tickets gives you a {odds:.6f} percent chance to win.'.format(\n",
    "                                                                                    num = tickets, \n",
    "                                                                                    odds = probability\n",
    "                                                                                    )\n",
    "# loop tests different numbers of tickets to verify function works\n",
    "test_values = [1, 10, 100, 10000, 1000000, 6991908, 13983816]\n",
    "for t in test_values:\n",
    "    print(multi_ticket_probability(t))"
   ]
  },
  {
   "cell_type": "markdown",
   "metadata": {},
   "source": [
    "We have now created our function that outputs the probability of different amounts of tickets winning the big prize. This shows the user how many tickets they would need to buy to even give themselves a realistic shot of winning the lottery."
   ]
  },
  {
   "cell_type": "markdown",
   "metadata": {},
   "source": [
    "## Less Winning Numbers\n",
    "\n",
    "We will now create a function that will tell the user what the odds of them winning a smaller prize. A smaller prize is awarded when someone guesses between 2 and 5 numbers correctly."
   ]
  },
  {
   "cell_type": "code",
   "execution_count": 8,
   "metadata": {
    "collapsed": false
   },
   "outputs": [
    {
     "name": "stdout",
     "output_type": "stream",
     "text": [
      "The odds of getting 2 numbers correct is 13.238 percent.\n",
      "The odds of getting 3 numbers correct is 1.765 percent.\n",
      "The odds of getting 4 numbers correct is 0.097 percent.\n",
      "The odds of getting 5 numbers correct is 0.002 percent.\n"
     ]
    }
   ],
   "source": [
    "# function outputs probability that a user will guess between 2 and 5 numbers correctly\n",
    "def probability_less_6(n):\n",
    "    total_outcomes = combinations(49, 6)\n",
    "    n_outcomes = combinations(6, n)\n",
    "    n_combinations_remaining = combinations(43, 6 - n)\n",
    "    winning_outcomes = n_outcomes * n_combinations_remaining\n",
    "    probability = winning_outcomes / total_outcomes * 100\n",
    "    return 'The odds of getting {num:} numbers correct is {odds:.3f} percent.'.format(\n",
    "                                                                            num = n, \n",
    "                                                                            odds = probability\n",
    "                                                                            )\n",
    "\n",
    "# loop tests different numbers of tickets to verify function works\n",
    "test_values = [2, 3, 4, 5]\n",
    "for t in test_values:\n",
    "    print(probability_less_6(t))"
   ]
  },
  {
   "cell_type": "markdown",
   "metadata": {},
   "source": [
    "We have now successfully created a function that outputs the odds of a user winning a smaller prize. This is to show the user how low the odds of them getting even a few of the numbers correct is."
   ]
  },
  {
   "cell_type": "markdown",
   "metadata": {},
   "source": [
    "## At Least an Amount of Winning Numbers\n",
    "\n",
    "To expand upon this idea, we will create a function that tells users if they guess at least `n` numbers correct."
   ]
  },
  {
   "cell_type": "code",
   "execution_count": 9,
   "metadata": {
    "collapsed": false
   },
   "outputs": [
    {
     "name": "stdout",
     "output_type": "stream",
     "text": [
      "You have a 15.101557 percent chance of guessing at least 2 numbers correct.\n",
      "You have a 1.863755 percent chance of guessing at least 3 numbers correct.\n",
      "You have a 0.098714 percent chance of guessing at least 4 numbers correct.\n",
      "You have a 0.001852 percent chance of guessing at least 5 numbers correct.\n",
      "You have a 0.000007 percent chance of guessing at least 6 numbers correct.\n"
     ]
    }
   ],
   "source": [
    "# creates function that tells user how likely they are to get at least a certain number of guesses right\n",
    "def probability_at_least_n(n):\n",
    "    total_outcomes = combinations(49, 6)\n",
    "    probability_big_winner = 1 / total_outcomes * 100\n",
    "    probability = 0\n",
    "    for i in range(n, 6):\n",
    "        n_outcomes = combinations(6, i)\n",
    "        n_combinations_remaining = combinations(43, 6 - i)\n",
    "        winning_outcomes = n_outcomes * n_combinations_remaining\n",
    "        probability += (winning_outcomes / total_outcomes * 100)\n",
    "    probability += probability_big_winner\n",
    "    return 'You have a {odds:.6f} percent chance of guessing at least {n:} numbers correct.'.format(\n",
    "                                                                                            odds = probability,\n",
    "                                                                                            n = n\n",
    "                                                                                            )\n",
    "# loop tests different numbers of tickets to verify function works\n",
    "test_values = [2, 3, 4, 5, 6]\n",
    "for t in test_values:\n",
    "    print(probability_at_least_n(t))"
   ]
  },
  {
   "cell_type": "markdown",
   "metadata": {
    "collapsed": true
   },
   "source": [
    "We have now successfully created the functionality to output the odds of getting at least `n` number of guesses correct. This will show the user that even their cumulative odds of winnning of winning anything are very low."
   ]
  },
  {
   "cell_type": "markdown",
   "metadata": {},
   "source": [
    "## Conclusions\n",
    "\n",
    "We successfully created the functionality for an app that will output:\n",
    "* The odds of any combination of numbers winning the big prize\n",
    "* How many times a combination of numbers has won in the past\n",
    "* The odds of multiple tickets winning the big prize\n",
    "* The odds of guessing between 2 and 5 numbers correctly\n",
    "* The odds of guessing at least a certain amount of numbers correctly"
   ]
  }
 ],
 "metadata": {
  "kernelspec": {
   "display_name": "Python 3",
   "language": "python",
   "name": "python3"
  },
  "language_info": {
   "codemirror_mode": {
    "name": "ipython",
    "version": 3
   },
   "file_extension": ".py",
   "mimetype": "text/x-python",
   "name": "python",
   "nbconvert_exporter": "python",
   "pygments_lexer": "ipython3",
   "version": "3.4.3"
  }
 },
 "nbformat": 4,
 "nbformat_minor": 2
}
