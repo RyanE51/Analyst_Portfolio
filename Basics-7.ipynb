{
 "cells": [
  {
   "cell_type": "markdown",
   "metadata": {
    "collapsed": true
   },
   "source": [
    "# Building a Spam Filter with Naive Bayes"
   ]
  },
  {
   "cell_type": "markdown",
   "metadata": {},
   "source": [
    "## Table of Contents\n",
    "* [Introduction](#Introduction)\n",
    "* [Training and Test Set](#Training-and-Test-Set)\n",
    "* [Cleaning the Training Set](#Cleaning-the-Training-Set)\n",
    "* [Calculating Constants](#Calculating-Constants)\n",
    "* [Calculating Parameters](#Calculating-Parameters)\n",
    "* [Classifying New Messages](#Classifying-New-Messages)\n",
    "* [Measuring Filter Accuracy](#Measuring-Filter-Accuracy)\n",
    "* [Analyzing Incorrect Labels](#Analyzing-Incorrect-Labels)\n",
    "* [Conclusion](#Conclusion)"
   ]
  },
  {
   "cell_type": "markdown",
   "metadata": {},
   "source": [
    "## Introduction\n",
    "\n",
    "Spam messages are irritants that are at best a general nuissance, and at worst, phishing attempts to steal information and cyber attacks that can load a device with viruses. The goal of this project is to create a filter that, with at least 80 percent accuracy, can detect spam messages and classify them as such. To do so, we will use [this dataset](https://dq-content.s3.amazonaws.com/433/SMSSpamCollection) of sms messages to develop our filter. "
   ]
  },
  {
   "cell_type": "markdown",
   "metadata": {},
   "source": [
    "Before creating our filter, we will import all necessary Python libraries and read in our dataset."
   ]
  },
  {
   "cell_type": "code",
   "execution_count": 1,
   "metadata": {},
   "outputs": [],
   "source": [
    "# importing libraries\n",
    "import pandas as pd\n",
    "import numpy as np \n",
    "import matplotlib.pyplot as plt\n",
    "import re\n",
    "\n",
    "# initialize notebook's plotting capabilities\n",
    "%matplotlib inline"
   ]
  },
  {
   "cell_type": "code",
   "execution_count": 2,
   "metadata": {},
   "outputs": [
    {
     "name": "stdout",
     "output_type": "stream",
     "text": [
      "  Label                                                SMS\n",
      "0   ham  Go until jurong point, crazy.. Available only ...\n",
      "1   ham                      Ok lar... Joking wif u oni...\n",
      "2  spam  Free entry in 2 a wkly comp to win FA Cup fina...\n",
      "3   ham  U dun say so early hor... U c already then say...\n",
      "4   ham  Nah I don't think he goes to usf, he lives aro...\n",
      "\n",
      "\n",
      "<class 'pandas.core.frame.DataFrame'>\n",
      "RangeIndex: 5572 entries, 0 to 5571\n",
      "Data columns (total 2 columns):\n",
      " #   Column  Non-Null Count  Dtype \n",
      "---  ------  --------------  ----- \n",
      " 0   Label   5572 non-null   object\n",
      " 1   SMS     5572 non-null   object\n",
      "dtypes: object(2)\n",
      "memory usage: 87.2+ KB\n",
      "None\n"
     ]
    }
   ],
   "source": [
    "# reading in table\n",
    "sms = pd.read_table('/Users/ryanehrhardt/Downloads/SMSSpamCollection', header = None, names = ['Label', 'SMS'])\n",
    "\n",
    "# verifying data was loaded correctly\n",
    "print(sms.head())\n",
    "print('\\n')\n",
    "print(sms.info())"
   ]
  },
  {
   "cell_type": "markdown",
   "metadata": {
    "collapsed": true
   },
   "source": [
    "We have now loaded in our data and can see that there are zero null values in the 5,572 rows of the dataset. As an initial anlaysis, we will determine what percent of the dataset are `spam` messages, and how many are `ham` (not spam) messages."
   ]
  },
  {
   "cell_type": "code",
   "execution_count": 3,
   "metadata": {},
   "outputs": [
    {
     "data": {
      "image/png": "[encoded data removed]",
      "text/plain": [
       "<Figure size 440x440 with 1 Axes>"
      ]
     },
     "metadata": {},
     "output_type": "display_data"
    }
   ],
   "source": [
    "# calculating percent spam\n",
    "percent_spam = sms['Label'].value_counts(normalize = True)\n",
    "\n",
    "# create plot showing percent spam\n",
    "fig, ax = plt.subplots(figsize = (4.4, 4.4))\n",
    "ax.pie(percent_spam, labels = ['ham', 'spam'], autopct=\"%1.1f%%\", \n",
    "      colors = ['lightblue', 'lightcoral'])\n",
    "ax.set_title('Proportion of \"ham\" and \"spam\" messages')\n",
    "ax.legend(ncol = 1, loc = 'upper right')\n",
    "plt.show()"
   ]
  },
  {
   "cell_type": "markdown",
   "metadata": {
    "collapsed": true
   },
   "source": [
    "After creating our pie chart, we can see that 13.4 percent of the messages in the dataframe are spam messages."
   ]
  },
  {
   "cell_type": "markdown",
   "metadata": {
    "collapsed": true
   },
   "source": [
    "## Training and Test Set\n",
    "\n",
    "Before creating our filter, we will divide the dataframe `sms` into two sets: a training and a test set. The training set will be a randomly selected 80 percent portion of the dataframe that we will use to improve our filter. The remaining 20 percent of the dataframe will be what we use to test our filter. Our goal is 80 percent accuracy.\n",
    "\n",
    "We will now create our sets."
   ]
  },
  {
   "cell_type": "code",
   "execution_count": 4,
   "metadata": {},
   "outputs": [],
   "source": [
    "# randomizing the dataframe to ensure samples are random\n",
    "sms_random = sms.sample(random_state = 1, frac = 1)"
   ]
  },
  {
   "cell_type": "code",
   "execution_count": 5,
   "metadata": {},
   "outputs": [
    {
     "name": "stdout",
     "output_type": "stream",
     "text": [
      "  Label                                                SMS\n",
      "0   ham                       Yep, by the pretty sculpture\n",
      "1   ham      Yes, princess. Are you going to make me moan?\n",
      "2   ham                         Welp apparently he retired\n",
      "3   ham                                            Havent.\n",
      "4   ham  I forgot 2 ask ü all smth.. There's a card on ... \n",
      " length = 4458\n",
      "\n",
      "\n",
      "  Label                                                SMS\n",
      "0   ham          Later i guess. I needa do mcat study too.\n",
      "1   ham             But i haf enuff space got like 4 mb...\n",
      "2  spam  Had your mobile 10 mths? Update to latest Oran...\n",
      "3   ham  All sounds good. Fingers . Makes it difficult ...\n",
      "4   ham  All done, all handed in. Don't know if mega sh... \n",
      " length = 1114\n"
     ]
    }
   ],
   "source": [
    "# assigning training and test sets\n",
    "training = sms_random.iloc[:4458].reset_index().drop('index', axis = 1)\n",
    "test = sms_random.iloc[4458:].reset_index().drop('index', axis = 1)\n",
    "\n",
    "# verifying samples were created successfully \n",
    "print(training.head(), '\\n', 'length =', len(training))\n",
    "print('\\n')\n",
    "print(test.head(), '\\n', 'length =', len(test))"
   ]
  },
  {
   "cell_type": "markdown",
   "metadata": {
    "collapsed": true
   },
   "source": [
    "We have now created our training and test datasets. We will now see what propotion of messages in both datasets are spam."
   ]
  },
  {
   "cell_type": "code",
   "execution_count": 6,
   "metadata": {
    "scrolled": false
   },
   "outputs": [
    {
     "data": {
      "image/png": "[encoded data removed]",
      "text/plain": [
       "<Figure size 450x450 with 1 Axes>"
      ]
     },
     "metadata": {},
     "output_type": "display_data"
    },
    {
     "name": "stdout",
     "output_type": "stream",
     "text": [
      "\n",
      "\n"
     ]
    },
    {
     "data": {
      "image/png": "[encoded data removed]",
      "text/plain": [
       "<Figure size 450x450 with 1 Axes>"
      ]
     },
     "metadata": {},
     "output_type": "display_data"
    }
   ],
   "source": [
    "# create percent spam plot for training\n",
    "training_percent = training['Label'].value_counts()\n",
    "fig, ax = plt.subplots(figsize = (4.5,4.5))\n",
    "ax.pie(training_percent, labels = ['ham', 'spam'], autopct=\"%1.1f%%\", \n",
    "      colors = ['lightblue', 'lightcoral'])\n",
    "ax.set_title('Percent of Spam in Training Set')\n",
    "ax.legend(ncol = 1, loc = 'upper right')\n",
    "plt.show()\n",
    "\n",
    "# adds visual seperation between plots\n",
    "print('\\n')\n",
    "\n",
    "# create percent spam plot for testing\n",
    "test_percent = test['Label'].value_counts()\n",
    "fig, ax = plt.subplots(figsize = (4.5,4.5))\n",
    "ax.pie(test_percent, labels = ['ham', 'spam'], autopct=\"%1.1f%%\", \n",
    "      colors = ['lightblue', 'lightcoral'])\n",
    "ax.set_title('Percent of Spam in Test Set')\n",
    "ax.legend(ncol = 1, loc = 'upper right')\n",
    "plt.show()"
   ]
  },
  {
   "cell_type": "markdown",
   "metadata": {
    "collapsed": true
   },
   "source": [
    "We can see that 13.2 percent of the messages in our testing set are spam messages and 13.5 percent of messages in our training set are spam messages, which are both very close to the population percentage of 13.4 percent."
   ]
  },
  {
   "cell_type": "markdown",
   "metadata": {
    "collapsed": true
   },
   "source": [
    "## Cleaning the Training Set\n",
    "\n",
    "We will now begin cleaning our filter. First, we will need to make sure all of the messages are in a usable form. To do this, we will remove any non-numeric or non-letter characters from the training set. We will then convert all characters to lowercase."
   ]
  },
  {
   "cell_type": "code",
   "execution_count": 7,
   "metadata": {},
   "outputs": [
    {
     "data": {
      "text/html": [
       "<div>\n",
       "<style scoped>\n",
       "    .dataframe tbody tr th:only-of-type {\n",
       "        vertical-align: middle;\n",
       "    }\n",
       "\n",
       "    .dataframe tbody tr th {\n",
       "        vertical-align: top;\n",
       "    }\n",
       "\n",
       "    .dataframe thead th {\n",
       "        text-align: right;\n",
       "    }\n",
       "</style>\n",
       "<table border=\"1\" class=\"dataframe\">\n",
       "  <thead>\n",
       "    <tr style=\"text-align: right;\">\n",
       "      <th></th>\n",
       "      <th>Label</th>\n",
       "      <th>SMS</th>\n",
       "    </tr>\n",
       "  </thead>\n",
       "  <tbody>\n",
       "    <tr>\n",
       "      <th>0</th>\n",
       "      <td>ham</td>\n",
       "      <td>yep  by the pretty sculpture</td>\n",
       "    </tr>\n",
       "    <tr>\n",
       "      <th>1</th>\n",
       "      <td>ham</td>\n",
       "      <td>yes  princess  are you going to make me moan</td>\n",
       "    </tr>\n",
       "    <tr>\n",
       "      <th>2</th>\n",
       "      <td>ham</td>\n",
       "      <td>welp apparently he retired</td>\n",
       "    </tr>\n",
       "    <tr>\n",
       "      <th>3</th>\n",
       "      <td>ham</td>\n",
       "      <td>havent</td>\n",
       "    </tr>\n",
       "    <tr>\n",
       "      <th>4</th>\n",
       "      <td>ham</td>\n",
       "      <td>i forgot 2 ask ü all smth   there s a card on ...</td>\n",
       "    </tr>\n",
       "  </tbody>\n",
       "</table>\n",
       "</div>"
      ],
      "text/plain": [
       "  Label                                                SMS\n",
       "0   ham                       yep  by the pretty sculpture\n",
       "1   ham      yes  princess  are you going to make me moan \n",
       "2   ham                         welp apparently he retired\n",
       "3   ham                                            havent \n",
       "4   ham  i forgot 2 ask ü all smth   there s a card on ..."
      ]
     },
     "execution_count": 7,
     "metadata": {},
     "output_type": "execute_result"
    }
   ],
   "source": [
    "# modifying messages\n",
    "training['SMS'] = training['SMS'].str.replace(r'\\W', ' ', regex = True).str.lower()\n",
    "\n",
    "# verifying data was updated correctly\n",
    "training.head()"
   ]
  },
  {
   "cell_type": "markdown",
   "metadata": {
    "collapsed": true
   },
   "source": [
    "We have successfully cleaed our data. Now we will begin creating a series vocabulary that we will use to store the number of occurances of each word in each entry in the training dataset."
   ]
  },
  {
   "cell_type": "code",
   "execution_count": 8,
   "metadata": {},
   "outputs": [],
   "source": [
    "# converting each message to an iterable list\n",
    "training['SMS'] = training['SMS'].str.split()"
   ]
  },
  {
   "cell_type": "code",
   "execution_count": 9,
   "metadata": {},
   "outputs": [
    {
     "name": "stdout",
     "output_type": "stream",
     "text": [
      "['files', 'cutefrnd', '8077', 'port', 'leona', 'technologies', 'madoke', 'office', 'kiefer', 'tot']\n",
      "\n",
      "\n",
      "There are 7,783 words in the vocabulary.\n"
     ]
    }
   ],
   "source": [
    "# initialize empty list to store vocabulary\n",
    "vocabulary = []\n",
    "\n",
    "# loop appends each word to the vocabulary list\n",
    "for entry in training['SMS']:\n",
    "    for word in entry:\n",
    "        vocabulary.append(word)\n",
    "\n",
    "# converts vocabulary to set to remove duplicates\n",
    "vocabulary = set(vocabulary)\n",
    "# converts vocabulary back to iterable list\n",
    "vocabulary = list(vocabulary)\n",
    "\n",
    "# verifying list was created correctly\n",
    "print(vocabulary[:10])\n",
    "print('\\n')\n",
    "print('There are {:,} words in the vocabulary.'.format(len(vocabulary)))"
   ]
  },
  {
   "cell_type": "markdown",
   "metadata": {
    "collapsed": true
   },
   "source": [
    "Now that we have defined our vocabulary, we will create a dictionary `word_counts_per_sms` that will store the amount of times each word was used in each individual sms message."
   ]
  },
  {
   "cell_type": "code",
   "execution_count": 10,
   "metadata": {},
   "outputs": [],
   "source": [
    "# initializing wordcount dictionary with zero values        \n",
    "word_counts_per_sms = {unique_word: [0] * len(training['SMS']) for unique_word in vocabulary}\n",
    "\n",
    "# counting instances of each word in each message\n",
    "for index, sms in enumerate(training['SMS']):\n",
    "    for word in sms:\n",
    "        word_counts_per_sms[word][index] += 1"
   ]
  },
  {
   "cell_type": "code",
   "execution_count": 11,
   "metadata": {},
   "outputs": [],
   "source": [
    "# converting dictionary to a dataframe\n",
    "word_counts_per_sms_df = pd.DataFrame(word_counts_per_sms)"
   ]
  },
  {
   "cell_type": "code",
   "execution_count": 12,
   "metadata": {
    "scrolled": false
   },
   "outputs": [
    {
     "data": {
      "text/html": [
       "<div>\n",
       "<style scoped>\n",
       "    .dataframe tbody tr th:only-of-type {\n",
       "        vertical-align: middle;\n",
       "    }\n",
       "\n",
       "    .dataframe tbody tr th {\n",
       "        vertical-align: top;\n",
       "    }\n",
       "\n",
       "    .dataframe thead th {\n",
       "        text-align: right;\n",
       "    }\n",
       "</style>\n",
       "<table border=\"1\" class=\"dataframe\">\n",
       "  <thead>\n",
       "    <tr style=\"text-align: right;\">\n",
       "      <th></th>\n",
       "      <th>Label</th>\n",
       "      <th>SMS</th>\n",
       "      <th>files</th>\n",
       "      <th>cutefrnd</th>\n",
       "      <th>8077</th>\n",
       "      <th>port</th>\n",
       "      <th>leona</th>\n",
       "      <th>technologies</th>\n",
       "      <th>madoke</th>\n",
       "      <th>office</th>\n",
       "      <th>...</th>\n",
       "      <th>watevr</th>\n",
       "      <th>uncountable</th>\n",
       "      <th>back</th>\n",
       "      <th>eachother</th>\n",
       "      <th>45239</th>\n",
       "      <th>children</th>\n",
       "      <th>dual</th>\n",
       "      <th>province</th>\n",
       "      <th>wknd</th>\n",
       "      <th>ext</th>\n",
       "    </tr>\n",
       "  </thead>\n",
       "  <tbody>\n",
       "    <tr>\n",
       "      <th>0</th>\n",
       "      <td>ham</td>\n",
       "      <td>[yep, by, the, pretty, sculpture]</td>\n",
       "      <td>0</td>\n",
       "      <td>0</td>\n",
       "      <td>0</td>\n",
       "      <td>0</td>\n",
       "      <td>0</td>\n",
       "      <td>0</td>\n",
       "      <td>0</td>\n",
       "      <td>0</td>\n",
       "      <td>...</td>\n",
       "      <td>0</td>\n",
       "      <td>0</td>\n",
       "      <td>0</td>\n",
       "      <td>0</td>\n",
       "      <td>0</td>\n",
       "      <td>0</td>\n",
       "      <td>0</td>\n",
       "      <td>0</td>\n",
       "      <td>0</td>\n",
       "      <td>0</td>\n",
       "    </tr>\n",
       "    <tr>\n",
       "      <th>1</th>\n",
       "      <td>ham</td>\n",
       "      <td>[yes, princess, are, you, going, to, make, me,...</td>\n",
       "      <td>0</td>\n",
       "      <td>0</td>\n",
       "      <td>0</td>\n",
       "      <td>0</td>\n",
       "      <td>0</td>\n",
       "      <td>0</td>\n",
       "      <td>0</td>\n",
       "      <td>0</td>\n",
       "      <td>...</td>\n",
       "      <td>0</td>\n",
       "      <td>0</td>\n",
       "      <td>0</td>\n",
       "      <td>0</td>\n",
       "      <td>0</td>\n",
       "      <td>0</td>\n",
       "      <td>0</td>\n",
       "      <td>0</td>\n",
       "      <td>0</td>\n",
       "      <td>0</td>\n",
       "    </tr>\n",
       "    <tr>\n",
       "      <th>2</th>\n",
       "      <td>ham</td>\n",
       "      <td>[welp, apparently, he, retired]</td>\n",
       "      <td>0</td>\n",
       "      <td>0</td>\n",
       "      <td>0</td>\n",
       "      <td>0</td>\n",
       "      <td>0</td>\n",
       "      <td>0</td>\n",
       "      <td>0</td>\n",
       "      <td>0</td>\n",
       "      <td>...</td>\n",
       "      <td>0</td>\n",
       "      <td>0</td>\n",
       "      <td>0</td>\n",
       "      <td>0</td>\n",
       "      <td>0</td>\n",
       "      <td>0</td>\n",
       "      <td>0</td>\n",
       "      <td>0</td>\n",
       "      <td>0</td>\n",
       "      <td>0</td>\n",
       "    </tr>\n",
       "    <tr>\n",
       "      <th>3</th>\n",
       "      <td>ham</td>\n",
       "      <td>[havent]</td>\n",
       "      <td>0</td>\n",
       "      <td>0</td>\n",
       "      <td>0</td>\n",
       "      <td>0</td>\n",
       "      <td>0</td>\n",
       "      <td>0</td>\n",
       "      <td>0</td>\n",
       "      <td>0</td>\n",
       "      <td>...</td>\n",
       "      <td>0</td>\n",
       "      <td>0</td>\n",
       "      <td>0</td>\n",
       "      <td>0</td>\n",
       "      <td>0</td>\n",
       "      <td>0</td>\n",
       "      <td>0</td>\n",
       "      <td>0</td>\n",
       "      <td>0</td>\n",
       "      <td>0</td>\n",
       "    </tr>\n",
       "    <tr>\n",
       "      <th>4</th>\n",
       "      <td>ham</td>\n",
       "      <td>[i, forgot, 2, ask, ü, all, smth, there, s, a,...</td>\n",
       "      <td>0</td>\n",
       "      <td>0</td>\n",
       "      <td>0</td>\n",
       "      <td>0</td>\n",
       "      <td>0</td>\n",
       "      <td>0</td>\n",
       "      <td>0</td>\n",
       "      <td>0</td>\n",
       "      <td>...</td>\n",
       "      <td>0</td>\n",
       "      <td>0</td>\n",
       "      <td>0</td>\n",
       "      <td>0</td>\n",
       "      <td>0</td>\n",
       "      <td>0</td>\n",
       "      <td>0</td>\n",
       "      <td>0</td>\n",
       "      <td>0</td>\n",
       "      <td>0</td>\n",
       "    </tr>\n",
       "  </tbody>\n",
       "</table>\n",
       "<p>5 rows × 7785 columns</p>\n",
       "</div>"
      ],
      "text/plain": [
       "  Label                                                SMS  files  cutefrnd  \\\n",
       "0   ham                  [yep, by, the, pretty, sculpture]      0         0   \n",
       "1   ham  [yes, princess, are, you, going, to, make, me,...      0         0   \n",
       "2   ham                    [welp, apparently, he, retired]      0         0   \n",
       "3   ham                                           [havent]      0         0   \n",
       "4   ham  [i, forgot, 2, ask, ü, all, smth, there, s, a,...      0         0   \n",
       "\n",
       "   8077  port  leona  technologies  madoke  office  ...  watevr  uncountable  \\\n",
       "0     0     0      0             0       0       0  ...       0            0   \n",
       "1     0     0      0             0       0       0  ...       0            0   \n",
       "2     0     0      0             0       0       0  ...       0            0   \n",
       "3     0     0      0             0       0       0  ...       0            0   \n",
       "4     0     0      0             0       0       0  ...       0            0   \n",
       "\n",
       "   back  eachother  45239  children  dual  province  wknd  ext  \n",
       "0     0          0      0         0     0         0     0    0  \n",
       "1     0          0      0         0     0         0     0    0  \n",
       "2     0          0      0         0     0         0     0    0  \n",
       "3     0          0      0         0     0         0     0    0  \n",
       "4     0          0      0         0     0         0     0    0  \n",
       "\n",
       "[5 rows x 7785 columns]"
      ]
     },
     "execution_count": 12,
     "metadata": {},
     "output_type": "execute_result"
    }
   ],
   "source": [
    "# concatenate word count dictionary to original dictionary\n",
    "sms_training = pd.concat([training, word_counts_per_sms_df],axis = 1)\n",
    "\n",
    "# verify dataframe was created correctly\n",
    "sms_training.head()"
   ]
  },
  {
   "cell_type": "markdown",
   "metadata": {
    "collapsed": true
   },
   "source": [
    "## Calculating Constants\n",
    "\n",
    "Now that we have prepared our training data, we will calculate our constants for our algorithm that will serve as our spam filter."
   ]
  },
  {
   "cell_type": "code",
   "execution_count": 13,
   "metadata": {},
   "outputs": [
    {
     "name": "stdout",
     "output_type": "stream",
     "text": [
      "0.13458950201884254\n",
      "0.8654104979811574\n",
      "15190\n",
      "57237\n",
      "7783\n"
     ]
    }
   ],
   "source": [
    "# Isolating spam and ham messages\n",
    "spam_messages = sms_training[sms_training['Label'] == 'spam']\n",
    "ham_messages = sms_training[sms_training['Label'] == 'ham']\n",
    "\n",
    "# P(Spam) and P(Ham)\n",
    "p_spam = len(spam_messages) / len(sms_training)\n",
    "p_ham = len(ham_messages) / len(sms_training)\n",
    "\n",
    "# number of words in spam messages\n",
    "n_words_per_spam_message = spam_messages['SMS'].apply(len)\n",
    "n_spam = n_words_per_spam_message.sum()\n",
    "\n",
    "# number of words in ham messages\n",
    "n_words_per_ham_message = ham_messages['SMS'].apply(len)\n",
    "n_ham = n_words_per_ham_message.sum()\n",
    "\n",
    "# number of words in vocabulary\n",
    "n_vocabulary = len(vocabulary)\n",
    "\n",
    "# Laplace smoothing\n",
    "alpha = 1\n",
    "\n",
    "# checking output\n",
    "print(p_spam)\n",
    "print(p_ham)\n",
    "print(n_spam)\n",
    "print(n_ham)\n",
    "print(n_vocabulary)"
   ]
  },
  {
   "cell_type": "markdown",
   "metadata": {
    "collapsed": true
   },
   "source": [
    "## Calculating Parameters\n",
    "\n",
    "Now that we have the constants for our algorithm, we will begin calculating the necessary parameters. Specifically, we will calculate the odds that each word in our vocabulary appears in spam and ham messages. To do this, we will create seperate dictionaries to store the data for both types of messages."
   ]
  },
  {
   "cell_type": "code",
   "execution_count": 14,
   "metadata": {},
   "outputs": [],
   "source": [
    "# initializing spam and dictionaries\n",
    "sms_words_spam = {unique_word: [0] * len(sms_training['Label'] == 'spam') for unique_word in vocabulary}\n",
    "sms_words_ham = {unique_word: [0] * len(sms_training['Label'] == 'ham') for unique_word in vocabulary}"
   ]
  },
  {
   "cell_type": "markdown",
   "metadata": {},
   "source": [
    "Now that we've initialized our variables to count the instances for each word, we will create loops that count the number of occurances of a word given it's a ham or spam message, and the probability a word occurs given a ham or spam message."
   ]
  },
  {
   "cell_type": "code",
   "execution_count": 15,
   "metadata": {},
   "outputs": [],
   "source": [
    "# loop counts the number of times each word is in a spam message\n",
    "for index, sms in enumerate(sms_training[sms_training['Label'] == 'spam']['SMS']):\n",
    "    for word in sms:\n",
    "        sms_words_spam[word][index] += 1       "
   ]
  },
  {
   "cell_type": "code",
   "execution_count": 16,
   "metadata": {},
   "outputs": [
    {
     "name": "stdout",
     "output_type": "stream",
     "text": [
      "[0, 0, 0, 0, 0, 1, 0, 0, 0, 0]\n"
     ]
    }
   ],
   "source": [
    "# verify dictionary was created successfully\n",
    "print(sms_words_spam['ipod'][:10])"
   ]
  },
  {
   "cell_type": "code",
   "execution_count": 17,
   "metadata": {},
   "outputs": [],
   "source": [
    "# loop counts the number of times each word is in a ham message\n",
    "for index, sms in enumerate(sms_training[sms_training['Label'] == 'ham']['SMS']):\n",
    "    for word in sms:\n",
    "        sms_words_ham[word][index] += 1"
   ]
  },
  {
   "cell_type": "code",
   "execution_count": 18,
   "metadata": {},
   "outputs": [
    {
     "name": "stdout",
     "output_type": "stream",
     "text": [
      "[1, 0, 0, 0, 0, 0, 0, 0, 0, 0]\n"
     ]
    }
   ],
   "source": [
    "# verify dictionary was created successfully\n",
    "print(sms_words_ham['yep'][:10])"
   ]
  },
  {
   "cell_type": "markdown",
   "metadata": {},
   "source": [
    "Now that we've successfully counted the number of times each word has been used in each individual spam and ham messages, we will calculate the total number of times each word has been used across all ham and spam messages."
   ]
  },
  {
   "cell_type": "code",
   "execution_count": 19,
   "metadata": {},
   "outputs": [
    {
     "name": "stdout",
     "output_type": "stream",
     "text": [
      "11\n",
      "9\n"
     ]
    }
   ],
   "source": [
    "# initialize dictionaries that count total number of times each word appears in ham and spam messages\n",
    "word_count_spam = {}\n",
    "word_count_ham = {}\n",
    "\n",
    "# counts total instances of each word in a ham or spam message\n",
    "for word in vocabulary:\n",
    "    word_count_spam[word] = sum(sms_words_spam[word])\n",
    "    word_count_ham[word] = sum(sms_words_ham[word])\n",
    "    \n",
    "# ensure dictionaries were created correctly\n",
    "print(word_count_spam['ipod'])\n",
    "print(word_count_ham['yep'])"
   ]
  },
  {
   "cell_type": "markdown",
   "metadata": {},
   "source": [
    "Now that we've calculated the total number of occurances for each word, we will calculate the probability that a word will occur given that the message was either ham or spam."
   ]
  },
  {
   "cell_type": "code",
   "execution_count": 20,
   "metadata": {},
   "outputs": [
    {
     "name": "stdout",
     "output_type": "stream",
     "text": [
      "0.0005223523266443216\n",
      "0.00015379883112888343\n"
     ]
    }
   ],
   "source": [
    "# initialize dictionaries that calculate probability words will be in ham and spam messages\n",
    "p_word_spam = {}\n",
    "p_word_ham = {}\n",
    "\n",
    "# calculates probability each word will be in a ham or spam message\n",
    "for word in vocabulary:\n",
    "    p_word_spam[word] = (word_count_spam[word] + alpha) / (n_spam + alpha * n_vocabulary)\n",
    "    p_word_ham[word] = (word_count_ham[word] + alpha) / (n_ham + alpha * n_vocabulary)\n",
    "    \n",
    "# ensure dictionaries were created correctly\n",
    "print(p_word_spam['ipod'])\n",
    "print(p_word_ham['yep'])"
   ]
  },
  {
   "cell_type": "markdown",
   "metadata": {},
   "source": [
    "We have now successfully calculated the probability of certain words appearing in a message given they were spam or ham messages and have all our necessary parameters."
   ]
  },
  {
   "cell_type": "markdown",
   "metadata": {},
   "source": [
    "## Classifying New Messages\n",
    "\n",
    "Now that we have calculated our parameters, we can begin creating our spam filter. To begin, we will create a function that takes in a message as an input, and will output a label of ham, spam, or request that a human makes the final determination in the event that the odds of the message being ham or spam are equal."
   ]
  },
  {
   "cell_type": "code",
   "execution_count": 21,
   "metadata": {},
   "outputs": [],
   "source": [
    "def classify(message):\n",
    "\n",
    "    message = re.sub('\\W', ' ', message)\n",
    "    message = message.lower()\n",
    "    message = message.split()\n",
    "        \n",
    "    # Assigns spam and ham probabilities to be used in multiplication\n",
    "    p_spam_given_message = p_spam\n",
    "    p_ham_given_message = p_ham\n",
    "        \n",
    "    for word in message:\n",
    "        if word in p_word_spam:\n",
    "            p_spam_given_message *= p_word_spam[word]\n",
    "            \n",
    "        if word in p_word_ham:\n",
    "            p_ham_given_message *= p_word_ham[word]\n",
    "    \n",
    "    # function prints probabilities so we can confirm it labeled correctly\n",
    "    print('P(Spam|message):', p_spam_given_message)\n",
    "    print('P(Ham|message):', p_ham_given_message)\n",
    "\n",
    "    if p_ham_given_message > p_spam_given_message:\n",
    "        print('Label: Ham')\n",
    "    elif p_ham_given_message < p_spam_given_message:\n",
    "        print('Label: Spam')\n",
    "    else:\n",
    "        print('Equal proabilities, have a human classify this!')"
   ]
  },
  {
   "cell_type": "markdown",
   "metadata": {},
   "source": [
    "We have now created our function, so we will test our function to ensure that it's working properly."
   ]
  },
  {
   "cell_type": "code",
   "execution_count": 22,
   "metadata": {
    "scrolled": true
   },
   "outputs": [
    {
     "name": "stdout",
     "output_type": "stream",
     "text": [
      "P(Spam|message): 1.3481290211300841e-25\n",
      "P(Ham|message): 1.9368049028589875e-27\n",
      "Label: Spam\n",
      "P(Spam|message): 2.4372375665888117e-25\n",
      "P(Ham|message): 3.687530435009238e-21\n",
      "Label: Ham\n"
     ]
    }
   ],
   "source": [
    "# stores sample messages to check function\n",
    "messages = ['WINNER!! This is the secret code to unlock the money: C3421.', \"Sounds good, Tom, then see u there\"]\n",
    "\n",
    "# loop inputs messages into function\n",
    "for message in messages:\n",
    "    classify(message)"
   ]
  },
  {
   "cell_type": "markdown",
   "metadata": {},
   "source": [
    "We can see that the function ran without a hitch and properly labeled both functions as ham or spam."
   ]
  },
  {
   "cell_type": "markdown",
   "metadata": {},
   "source": [
    "## Measuring Filter Accuracy\n",
    "\n",
    "Now it's time to test the accuracy of our filter on an actual dataset. To do this, we will first slightly modify the function to return only the strings `'ham'` for ham messages, `'spam'` for spam messages, and `'needs human classification'` for messages that are equally likely to be ham and spam."
   ]
  },
  {
   "cell_type": "code",
   "execution_count": 23,
   "metadata": {},
   "outputs": [],
   "source": [
    "def classify_test_set(message):\n",
    "    \n",
    "    # modifiies message to usable format\n",
    "    message = re.sub('\\W', ' ', message)\n",
    "    message = message.lower()\n",
    "    message = message.split()\n",
    "\n",
    "    # assigns probability of a ham or spam message\n",
    "    p_spam_given_message = p_spam\n",
    "    p_ham_given_message = p_ham\n",
    "\n",
    "    # calculates probability that a message is ham or spam\n",
    "    for word in message:\n",
    "        if word in p_word_spam:\n",
    "            p_spam_given_message *= p_word_spam[word]\n",
    "            \n",
    "        if word in p_word_ham:\n",
    "            p_ham_given_message *= p_word_ham[word]\n",
    "\n",
    "    # outputs label\n",
    "    if p_ham_given_message > p_spam_given_message:\n",
    "        return 'ham'\n",
    "    elif p_spam_given_message > p_ham_given_message:\n",
    "        return 'spam'\n",
    "    else:\n",
    "        return 'needs human classification'"
   ]
  },
  {
   "cell_type": "markdown",
   "metadata": {},
   "source": [
    "Now that we have modified our function, we will apply our function to our test dataframe (`test`) to label it."
   ]
  },
  {
   "cell_type": "code",
   "execution_count": 24,
   "metadata": {
    "scrolled": true
   },
   "outputs": [
    {
     "data": {
      "text/html": [
       "<div>\n",
       "<style scoped>\n",
       "    .dataframe tbody tr th:only-of-type {\n",
       "        vertical-align: middle;\n",
       "    }\n",
       "\n",
       "    .dataframe tbody tr th {\n",
       "        vertical-align: top;\n",
       "    }\n",
       "\n",
       "    .dataframe thead th {\n",
       "        text-align: right;\n",
       "    }\n",
       "</style>\n",
       "<table border=\"1\" class=\"dataframe\">\n",
       "  <thead>\n",
       "    <tr style=\"text-align: right;\">\n",
       "      <th></th>\n",
       "      <th>Label</th>\n",
       "      <th>SMS</th>\n",
       "      <th>predicted</th>\n",
       "    </tr>\n",
       "  </thead>\n",
       "  <tbody>\n",
       "    <tr>\n",
       "      <th>0</th>\n",
       "      <td>ham</td>\n",
       "      <td>Later i guess. I needa do mcat study too.</td>\n",
       "      <td>ham</td>\n",
       "    </tr>\n",
       "    <tr>\n",
       "      <th>1</th>\n",
       "      <td>ham</td>\n",
       "      <td>But i haf enuff space got like 4 mb...</td>\n",
       "      <td>ham</td>\n",
       "    </tr>\n",
       "    <tr>\n",
       "      <th>2</th>\n",
       "      <td>spam</td>\n",
       "      <td>Had your mobile 10 mths? Update to latest Oran...</td>\n",
       "      <td>spam</td>\n",
       "    </tr>\n",
       "    <tr>\n",
       "      <th>3</th>\n",
       "      <td>ham</td>\n",
       "      <td>All sounds good. Fingers . Makes it difficult ...</td>\n",
       "      <td>ham</td>\n",
       "    </tr>\n",
       "    <tr>\n",
       "      <th>4</th>\n",
       "      <td>ham</td>\n",
       "      <td>All done, all handed in. Don't know if mega sh...</td>\n",
       "      <td>ham</td>\n",
       "    </tr>\n",
       "  </tbody>\n",
       "</table>\n",
       "</div>"
      ],
      "text/plain": [
       "  Label                                                SMS predicted\n",
       "0   ham          Later i guess. I needa do mcat study too.       ham\n",
       "1   ham             But i haf enuff space got like 4 mb...       ham\n",
       "2  spam  Had your mobile 10 mths? Update to latest Oran...      spam\n",
       "3   ham  All sounds good. Fingers . Makes it difficult ...       ham\n",
       "4   ham  All done, all handed in. Don't know if mega sh...       ham"
      ]
     },
     "execution_count": 24,
     "metadata": {},
     "output_type": "execute_result"
    }
   ],
   "source": [
    "# adds series with labels assigned by filter\n",
    "test['predicted'] = test['SMS'].apply(classify_test_set)\n",
    "\n",
    "# verify labels were added successfully\n",
    "test.head()"
   ]
  },
  {
   "cell_type": "markdown",
   "metadata": {},
   "source": [
    "We can see that we have successfully labeled the dataframe `test`. Now, we need to test how <b>accurately</b> we labeled `test`. To do that, we will iterate over the dataframe to count how many of the predicted lables matched the actual labels, and use that value to determine the percentage of accurate labels."
   ]
  },
  {
   "cell_type": "code",
   "execution_count": 25,
   "metadata": {},
   "outputs": [
    {
     "name": "stdout",
     "output_type": "stream",
     "text": [
      "The filter is 98.74 percent accurate.\n"
     ]
    }
   ],
   "source": [
    "# initialize variables for calculations\n",
    "total = len(test) # total number of messages\n",
    "count = 0 # will count total accurate messages\n",
    "\n",
    "# loop outputs number of correct labels\n",
    "for i, row in test.iterrows():\n",
    "    label = row['Label']\n",
    "    predicted_label = row['predicted']\n",
    "    if label == predicted_label:\n",
    "        count += 1\n",
    "    \n",
    "# calculating and displaying percent accuracy\n",
    "accuracy = count / total * 100\n",
    "print('The filter is {:.2f} percent accurate.'.format(accuracy))"
   ]
  },
  {
   "cell_type": "markdown",
   "metadata": {},
   "source": [
    "We can see that our filter's labels are 98.74 percent accurate on the test dataset, which is a near perfect score and certainly much better than the goal of 80 percent accurate we outlined in our introduction."
   ]
  },
  {
   "cell_type": "markdown",
   "metadata": {},
   "source": [
    "## Analyzing Incorrect Labels\n",
    "\n",
    "We will now examine the incorrect labels generated by the filter and try to figure out where it went wrong."
   ]
  },
  {
   "cell_type": "code",
   "execution_count": 26,
   "metadata": {},
   "outputs": [
    {
     "name": "stdout",
     "output_type": "stream",
     "text": [
      "['ham', 'ham', 'spam', 'spam', 'spam', 'needs human classification', 'spam', 'spam', 'ham', 'ham', 'ham', 'ham', 'ham', 'ham']\n",
      "['Not heard from U4 a while. Call me now am here all night with just my knickers on. Make me beg for it like U did last time 01223585236 XX Luv Nikiyu4.net', \"More people are dogging in your area now. Call 09090204448 and join like minded guys. Why not arrange 1 yourself. There's 1 this evening. A£1.50 minAPN LS278BB\", 'Unlimited texts. Limited minutes.', '26th OF JULY', 'Nokia phone is lovly..', 'A Boy loved a gal. He propsd bt she didnt mind. He gv lv lttrs, Bt her frnds threw thm. Again d boy decided 2 aproach d gal , dt time a truck was speeding towards d gal. Wn it was about 2 hit d girl,d boy ran like hell n saved her. She asked \\'hw cn u run so fast?\\' D boy replied \"Boost is d secret of my energy\" n instantly d girl shouted \"our energy\" n Thy lived happily 2gthr drinking boost evrydy Moral of d story:- I hv free msgs:D;): gud ni8', 'No calls..messages..missed calls', 'We have sent JD for Customer Service cum Accounts Executive to ur mail id, For details contact us', \"Oh my god! I've found your number again! I'm so glad, text me back xafter this msgs cst std ntwk chg £1.50\", 'Hi babe its Chloe, how r u? I was smashed on saturday night, it was great! How was your weekend? U been missing me? SP visionsms.com Text stop to stop 150p/text', '0A$NETWORKS allow companies to bill for SMS, so they are responsible for their \"suppliers\", just as a shop has to give a guarantee on what they sell. B. G.', \"RCT' THNQ Adrian for U text. Rgds Vatian\", '2/2 146tf150p', 'Hello. We need some posh birds and chaps to user trial prods for champneys. Can i put you down? I need your address and dob asap. Ta r']\n"
     ]
    },
    {
     "data": {
      "text/html": [
       "<div>\n",
       "<style scoped>\n",
       "    .dataframe tbody tr th:only-of-type {\n",
       "        vertical-align: middle;\n",
       "    }\n",
       "\n",
       "    .dataframe tbody tr th {\n",
       "        vertical-align: top;\n",
       "    }\n",
       "\n",
       "    .dataframe thead th {\n",
       "        text-align: right;\n",
       "    }\n",
       "</style>\n",
       "<table border=\"1\" class=\"dataframe\">\n",
       "  <thead>\n",
       "    <tr style=\"text-align: right;\">\n",
       "      <th></th>\n",
       "      <th>Label</th>\n",
       "      <th>SMS</th>\n",
       "      <th>predicted</th>\n",
       "    </tr>\n",
       "  </thead>\n",
       "  <tbody>\n",
       "    <tr>\n",
       "      <th>114</th>\n",
       "      <td>spam</td>\n",
       "      <td>Not heard from U4 a while. Call me now am here...</td>\n",
       "      <td>ham</td>\n",
       "    </tr>\n",
       "    <tr>\n",
       "      <th>135</th>\n",
       "      <td>spam</td>\n",
       "      <td>More people are dogging in your area now. Call...</td>\n",
       "      <td>ham</td>\n",
       "    </tr>\n",
       "    <tr>\n",
       "      <th>152</th>\n",
       "      <td>ham</td>\n",
       "      <td>Unlimited texts. Limited minutes.</td>\n",
       "      <td>spam</td>\n",
       "    </tr>\n",
       "    <tr>\n",
       "      <th>159</th>\n",
       "      <td>ham</td>\n",
       "      <td>26th OF JULY</td>\n",
       "      <td>spam</td>\n",
       "    </tr>\n",
       "    <tr>\n",
       "      <th>284</th>\n",
       "      <td>ham</td>\n",
       "      <td>Nokia phone is lovly..</td>\n",
       "      <td>spam</td>\n",
       "    </tr>\n",
       "    <tr>\n",
       "      <th>293</th>\n",
       "      <td>ham</td>\n",
       "      <td>A Boy loved a gal. He propsd bt she didnt mind...</td>\n",
       "      <td>needs human classification</td>\n",
       "    </tr>\n",
       "    <tr>\n",
       "      <th>302</th>\n",
       "      <td>ham</td>\n",
       "      <td>No calls..messages..missed calls</td>\n",
       "      <td>spam</td>\n",
       "    </tr>\n",
       "    <tr>\n",
       "      <th>319</th>\n",
       "      <td>ham</td>\n",
       "      <td>We have sent JD for Customer Service cum Accou...</td>\n",
       "      <td>spam</td>\n",
       "    </tr>\n",
       "    <tr>\n",
       "      <th>504</th>\n",
       "      <td>spam</td>\n",
       "      <td>Oh my god! I've found your number again! I'm s...</td>\n",
       "      <td>ham</td>\n",
       "    </tr>\n",
       "    <tr>\n",
       "      <th>546</th>\n",
       "      <td>spam</td>\n",
       "      <td>Hi babe its Chloe, how r u? I was smashed on s...</td>\n",
       "      <td>ham</td>\n",
       "    </tr>\n",
       "    <tr>\n",
       "      <th>741</th>\n",
       "      <td>spam</td>\n",
       "      <td>0A$NETWORKS allow companies to bill for SMS, s...</td>\n",
       "      <td>ham</td>\n",
       "    </tr>\n",
       "    <tr>\n",
       "      <th>876</th>\n",
       "      <td>spam</td>\n",
       "      <td>RCT' THNQ Adrian for U text. Rgds Vatian</td>\n",
       "      <td>ham</td>\n",
       "    </tr>\n",
       "    <tr>\n",
       "      <th>885</th>\n",
       "      <td>spam</td>\n",
       "      <td>2/2 146tf150p</td>\n",
       "      <td>ham</td>\n",
       "    </tr>\n",
       "    <tr>\n",
       "      <th>953</th>\n",
       "      <td>spam</td>\n",
       "      <td>Hello. We need some posh birds and chaps to us...</td>\n",
       "      <td>ham</td>\n",
       "    </tr>\n",
       "  </tbody>\n",
       "</table>\n",
       "</div>"
      ],
      "text/plain": [
       "    Label                                                SMS  \\\n",
       "114  spam  Not heard from U4 a while. Call me now am here...   \n",
       "135  spam  More people are dogging in your area now. Call...   \n",
       "152   ham                  Unlimited texts. Limited minutes.   \n",
       "159   ham                                       26th OF JULY   \n",
       "284   ham                             Nokia phone is lovly..   \n",
       "293   ham  A Boy loved a gal. He propsd bt she didnt mind...   \n",
       "302   ham                   No calls..messages..missed calls   \n",
       "319   ham  We have sent JD for Customer Service cum Accou...   \n",
       "504  spam  Oh my god! I've found your number again! I'm s...   \n",
       "546  spam  Hi babe its Chloe, how r u? I was smashed on s...   \n",
       "741  spam  0A$NETWORKS allow companies to bill for SMS, s...   \n",
       "876  spam           RCT' THNQ Adrian for U text. Rgds Vatian   \n",
       "885  spam                                      2/2 146tf150p   \n",
       "953  spam  Hello. We need some posh birds and chaps to us...   \n",
       "\n",
       "                      predicted  \n",
       "114                         ham  \n",
       "135                         ham  \n",
       "152                        spam  \n",
       "159                        spam  \n",
       "284                        spam  \n",
       "293  needs human classification  \n",
       "302                        spam  \n",
       "319                        spam  \n",
       "504                         ham  \n",
       "546                         ham  \n",
       "741                         ham  \n",
       "876                         ham  \n",
       "885                         ham  \n",
       "953                         ham  "
      ]
     },
     "execution_count": 26,
     "metadata": {},
     "output_type": "execute_result"
    }
   ],
   "source": [
    "# initialize variables to store incorrect labels and messages\n",
    "wrong_label = []\n",
    "message = []\n",
    "wrong_message_label = []\n",
    "\n",
    "# loop outputs number of correct labels\n",
    "for i, row in test.iterrows():\n",
    "    label = row['Label']\n",
    "    predicted_label = row['predicted']\n",
    "    if label != predicted_label:\n",
    "        wrong_label.append(row['predicted'])\n",
    "        message.append(row['SMS'])\n",
    "        wrong_message_label.append(row)\n",
    "\n",
    "# print incorrect labels and messages\n",
    "print(wrong_label)\n",
    "print(message)\n",
    "pd.DataFrame(wrong_message_label)"
   ]
  },
  {
   "cell_type": "markdown",
   "metadata": {},
   "source": [
    "Two things that consistently occur in the messages mislabeled as ham is that the messages are soliciting sex work in some way, and the messages are asking for the recipient to give up some sort of personal information. \n",
    "\n",
    "Among the messages mislabeled as spam, one thing we're finding is that there's language that occurs, such as 'Nokia phone is lovly..' that may be consistient with spam sales messages. There's also many typos, text shorthands, and words and syntax that just generally stray from classic grammatical structures, all of which may be more likely to be considered spam.\n",
    "\n",
    "In terms of how to improve the accuracy even more, it seems that the main solution would be to continue to train the filter with larger and larger sets of data. This should cut down on the discrepancies that exist labeling, though it won't ever make the filtering process perfect, as the language for these mislabeled messages will likely always exist in a gray area that the filter may have issues identifying."
   ]
  },
  {
   "cell_type": "markdown",
   "metadata": {},
   "source": [
    "## Conclusion\n",
    "\n",
    "* We created a filter that correctly labels incoming sms messages as spam or ham 98.74 percent of the time.\n",
    "* <b>Issues</b>\n",
    "  * <u>Spam messages</u> soliciting sex and attempting to steal personal information are most liikely to be mislabeled as spam.\n",
    "  * <u>Ham messages</u> with unconventional or incorrect grammar, as well as messages with language that is reminiscent of spam sales messages, are more likely to be incorrectly flagged as spam.\n",
    "  * The best way to improve the filter is to expand its vocabulary and train it on a much larger dataset."
   ]
  }
 ],
 "metadata": {
  "kernelspec": {
   "display_name": "Python 3 (ipykernel)",
   "language": "python",
   "name": "python3"
  },
  "language_info": {
   "codemirror_mode": {
    "name": "ipython",
    "version": 3
   },
   "file_extension": ".py",
   "mimetype": "text/x-python",
   "name": "python",
   "nbconvert_exporter": "python",
   "pygments_lexer": "ipython3",
   "version": "3.11.5"
  }
 },
 "nbformat": 4,
 "nbformat_minor": 4
}
